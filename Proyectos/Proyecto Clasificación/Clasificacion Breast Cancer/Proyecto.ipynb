{
 "cells": [
  {
   "cell_type": "markdown",
   "metadata": {},
   "source": [
    "# Clasificación II: Cancer de Seno\n",
    "## _Paula Lorena López_ & _Sara Julieth Zuleta_\n",
    "\n",
    "Las aplicaciones del aprendizaje automatico de máquinas en el campo médico es una de las áreas de trabajo del profesor Alexander. Por esta razón el no podia dejar a un lado utilizar datos de este campo para evaluar el conocimiento de los alumnos en Clasificación lineal. Para este problema el profesor usara la base de datos sobre Cancer de Seno. Está base de datos esta descrita en el UCI repository y se puede desargar directamente de los databease que tiene la libreria scikit-learn de python. Está base de dato tiene un conjunto de datos extraidos de una imagen de seno, estos datos describen las caracteristicas de las masas que pueden ser tumores benignos o malignos. El profesor Alexander quiere que ustedes utilicen sus conocimientos en Machine Learning para diseñar un clasificador que sea capaz de predecir si un tumor de seno es maligno o no, basado en la información porporcionada en la base de datos.\n",
    "\n",
    "Para este proposito el Profesor Alexander dividio el problema en las siguientes tareas:\n",
    "\n",
    "1. Cargen los datos *breast_cancer* de la librería scikit learn.\n",
    "\n"
   ]
  },
  {
   "cell_type": "code",
   "execution_count": 1,
   "metadata": {},
   "outputs": [],
   "source": [
    "import sklearn\n",
    "import pandas as pd\n",
    "import seaborn\n",
    "import numpy as np\n",
    "import matplotlib.pyplot as plt\n",
    "from sklearn import datasets, svm, metrics, linear_model, model_selection\n",
    "from sklearn.neighbors import KNeighborsClassifier\n",
    "from sklearn.model_selection import train_test_split\n",
    "from sklearn.metrics import confusion_matrix, classification_report, accuracy_score\n",
    "from sklearn.linear_model import LogisticRegression\n",
    "from sklearn.preprocessing import MinMaxScaler, StandardScaler\n",
    "from sklearn.pipeline import make_pipeline\n",
    "\n",
    "\n"
   ]
  },
  {
   "cell_type": "code",
   "execution_count": 2,
   "metadata": {
    "scrolled": true
   },
   "outputs": [
    {
     "name": "stdout",
     "output_type": "stream",
     "text": [
      "dict_keys(['data', 'target', 'frame', 'target_names', 'DESCR', 'feature_names', 'filename'])\n"
     ]
    }
   ],
   "source": [
    "data = datasets.load_breast_cancer()\n",
    "print(data.keys())"
   ]
  },
  {
   "cell_type": "markdown",
   "metadata": {},
   "source": [
    "2. Implementen un clasificador usando KNN. Determine una forma de evaluar el rendimiento de este clasificador para diferentes valores de K.\n"
   ]
  },
  {
   "cell_type": "code",
   "execution_count": 3,
   "metadata": {},
   "outputs": [
    {
     "name": "stdout",
     "output_type": "stream",
     "text": [
      "569\n"
     ]
    }
   ],
   "source": [
    "x = data.data\n",
    "print(len(x))\n",
    "y = data.target\n",
    "x_train, x_test, y_train, y_test = train_test_split(x,y)\n",
    "#valores random para el test y para el train"
   ]
  },
  {
   "cell_type": "code",
   "execution_count": 4,
   "metadata": {
    "scrolled": true
   },
   "outputs": [
    {
     "name": "stdout",
     "output_type": "stream",
     "text": [
      "Precisión de K-NN en training: 0.93\n",
      "Precisión de K-NN en test: 0.95\n"
     ]
    }
   ],
   "source": [
    "int_rango = range(1, 20)\n",
    "scores = []\n",
    "for k in int_rango:\n",
    "    i = 0\n",
    "    neig = KNeighborsClassifier(n_neighbors = k)\n",
    "    neig.fit(x_train, y_train)\n",
    "    y_pred = neig.predict(x_test)\n",
    "    scores.append(accuracy_score(y_test, y_pred))\n",
    "        \n",
    "        \n",
    "print('Precisión de K-NN en training: {:.2f}'\n",
    " .format(neig.score(x_train, y_train)))\n",
    "print('Precisión de K-NN en test: {:.2f}'\n",
    " .format(neig.score(x_test, y_test)))\n",
    "\n",
    "\n"
   ]
  },
  {
   "cell_type": "code",
   "execution_count": 5,
   "metadata": {},
   "outputs": [
    {
     "data": {
      "text/plain": [
       "([<matplotlib.axis.XTick at 0x22403fb9248>,\n",
       "  <matplotlib.axis.XTick at 0x224007e4f88>,\n",
       "  <matplotlib.axis.XTick at 0x22403fa1cc8>,\n",
       "  <matplotlib.axis.XTick at 0x22404008848>,\n",
       "  <matplotlib.axis.XTick at 0x2240400d108>],\n",
       " [Text(0, 0, ''),\n",
       "  Text(0, 0, ''),\n",
       "  Text(0, 0, ''),\n",
       "  Text(0, 0, ''),\n",
       "  Text(0, 0, '')])"
      ]
     },
     "execution_count": 5,
     "metadata": {},
     "output_type": "execute_result"
    },
    {
     "data": {
      "image/png": "[encoded data removed]",
      "text/plain": [
       "<Figure size 432x288 with 1 Axes>"
      ]
     },
     "metadata": {
      "needs_background": "light"
     },
     "output_type": "display_data"
    }
   ],
   "source": [
    "plt.figure()\n",
    "plt.xlabel('Valor de k')\n",
    "plt.ylabel('accuracy')\n",
    "plt.scatter(int_rango, scores)\n",
    "plt.xticks([0,5,10,15,20])"
   ]
  },
  {
   "cell_type": "markdown",
   "metadata": {},
   "source": [
    "El valor de k está dado por la gráfica anterior. El valor de k es el número en donde la precisión es más alta."
   ]
  },
  {
   "cell_type": "markdown",
   "metadata": {},
   "source": [
    "3. Implemente un clasificador utilizando regresión logistica. Busque una manera de poder visualizar esos datos de tal forma que se puedan dibujar las regiones de decisión en una grafica 2D.\n",
    "\n"
   ]
  },
  {
   "cell_type": "code",
   "execution_count": 6,
   "metadata": {},
   "outputs": [
    {
     "data": {
      "text/plain": [
       "LogisticRegression(max_iter=10000, random_state=0)"
      ]
     },
     "execution_count": 6,
     "metadata": {},
     "output_type": "execute_result"
    }
   ],
   "source": [
    "sc = StandardScaler() #Estandarizamos \n",
    "x_train = sc.fit_transform(x_train)\n",
    "x_test = sc.transform(x_test)\n",
    "\n",
    "clasificacion = LogisticRegression(random_state=0,solver='lbfgs', max_iter=10000)\n",
    "clasificacion.fit(x_train, y_train)"
   ]
  },
  {
   "cell_type": "code",
   "execution_count": 7,
   "metadata": {},
   "outputs": [
    {
     "name": "stdout",
     "output_type": "stream",
     "text": [
      "El accuracy del test es: 0.99\n",
      "El error del test es: 0.01\n"
     ]
    }
   ],
   "source": [
    "pred = clasificacion.predict(x_test)\n",
    "\n",
    "accuracy_score(y_test, pred)\n",
    "print(\"El accuracy del test es: {:.2f}\".format(accuracy_score(y_test,pred) ))\n",
    "test_error = 1-accuracy_score(y_test,pred)\n",
    "print(\"El error del test es: {:.2f}\".format( test_error ) )"
   ]
  },
  {
   "cell_type": "code",
   "execution_count": 8,
   "metadata": {},
   "outputs": [
    {
     "name": "stdout",
     "output_type": "stream",
     "text": [
      "[1 1 1 0 1 1 1 1 1 1 1 0 1 1 0 1 0 1 0 1 1 1 1 1 1 0 1 1 0 0 1 1 1 0 0 1 1\n",
      " 0 1 1 1 0 1 1 0 1 1 1 1 1 1 0 1 1 1 1 0 1 0 0 0 0 0 0 1 1 0 1 1 1 1 1 0 1\n",
      " 1 1 0 1 1 0 0 0 1 0 0 0 1 0 1 1 1 1 1 0 0 1 1 0 1 1 1 1 0 0 0 1 1 0 0 1 1\n",
      " 1 0 0 1 0 1 1 0 0 1 1 0 1 0 1 0 0 1 1 0 0 1 0 1 1 0 1 1 1 1 1 1]\n"
     ]
    }
   ],
   "source": [
    "print(pred)"
   ]
  },
  {
   "cell_type": "code",
   "execution_count": 9,
   "metadata": {},
   "outputs": [
    {
     "data": {
      "text/plain": [
       "Text(0, 0.5, 'mean texture')"
      ]
     },
     "execution_count": 9,
     "metadata": {},
     "output_type": "execute_result"
    },
    {
     "data": {
      "image/png": "[encoded data removed]",
      "text/plain": [
       "<Figure size 432x288 with 1 Axes>"
      ]
     },
     "metadata": {
      "needs_background": "light"
     },
     "output_type": "display_data"
    }
   ],
   "source": [
    "x_0 = []\n",
    "for obs in x_test:\n",
    "    x_0.append(obs[0])\n",
    "\n",
    "x_1 = []\n",
    "for obs in x_test:\n",
    "    x_1.append(obs[1])\n",
    "    \n",
    "color = []\n",
    "for obs in range(len(pred)):\n",
    "    if pred[obs] == 1:\n",
    "        color.append('lightblue')\n",
    "    else:\n",
    "        color.append('pink')\n",
    "\n",
    "plt.scatter(x_0,x_1,c=color)\n",
    "plt.xlabel(str(data.feature_names[0]))\n",
    "plt.ylabel(str(data.feature_names[1]))\n",
    "\n",
    "#Si el color es rosado, entonces estamos hablado de los tumores malignos"
   ]
  },
  {
   "cell_type": "code",
   "execution_count": 10,
   "metadata": {},
   "outputs": [
    {
     "data": {
      "text/plain": [
       "Text(0, 0.5, 'mean area')"
      ]
     },
     "execution_count": 10,
     "metadata": {},
     "output_type": "execute_result"
    },
    {
     "data": {
      "image/png": "[encoded data removed]",
      "text/plain": [
       "<Figure size 432x288 with 1 Axes>"
      ]
     },
     "metadata": {
      "needs_background": "light"
     },
     "output_type": "display_data"
    }
   ],
   "source": [
    "x_2 = []\n",
    "for obs in x_test:\n",
    "    x_2.append(obs[2])\n",
    "\n",
    "x_3 = []\n",
    "for obs in x_test:\n",
    "    x_3.append(obs[3])\n",
    "    \n",
    "color = []\n",
    "for obs in range(len(pred)):\n",
    "    if pred[obs] == 1:\n",
    "        color.append('lightgreen')\n",
    "    else:\n",
    "        color.append('gray')\n",
    "\n",
    "plt.scatter(x_2,x_3,c = color)\n",
    "plt.xlabel(str(data.feature_names[2]))\n",
    "plt.ylabel(str(data.feature_names[3]))\n",
    "\n",
    "#Si el color es gris, entonces estamos hablado de los tumores malignos"
   ]
  },
  {
   "cell_type": "code",
   "execution_count": 11,
   "metadata": {},
   "outputs": [
    {
     "data": {
      "text/plain": [
       "Text(0, 0.5, 'mean compactness')"
      ]
     },
     "execution_count": 11,
     "metadata": {},
     "output_type": "execute_result"
    },
    {
     "data": {
      "image/png": "[encoded data removed]",
      "text/plain": [
       "<Figure size 432x288 with 1 Axes>"
      ]
     },
     "metadata": {
      "needs_background": "light"
     },
     "output_type": "display_data"
    }
   ],
   "source": [
    "x_4 = []\n",
    "for obs in x_test:\n",
    "    x_4.append(obs[4])\n",
    "\n",
    "x_5 = []\n",
    "for obs in x_test:\n",
    "    x_5.append(obs[5])\n",
    "    \n",
    "color = []\n",
    "for obs in range(len(pred)):\n",
    "    if pred[obs] == 1:\n",
    "        color.append('brown')\n",
    "    else:\n",
    "        color.append('salmon')\n",
    "\n",
    "plt.scatter(x_4,x_5,c = color)\n",
    "plt.xlabel(str(data.feature_names[4]))\n",
    "plt.ylabel(str(data.feature_names[5]))\n",
    "\n",
    "#Si el color es salmon, entonces estamos hablado de los tumores malignos"
   ]
  },
  {
   "cell_type": "markdown",
   "metadata": {},
   "source": [
    "4. Analice los valores del parametro $\\theta$ del clasificador, grafiquelos y comparelos con los datos disponibles.\n",
    "\n"
   ]
  },
  {
   "cell_type": "code",
   "execution_count": 17,
   "metadata": {},
   "outputs": [
    {
     "name": "stdout",
     "output_type": "stream",
     "text": [
      "[[-0.41061039 -0.33615762 -0.4132232  -0.49563868 -0.1850283   0.48322836\n",
      "  -0.83583774 -1.01010643  0.20554034  0.25389922 -0.98932963  0.20653151\n",
      "  -0.40650637 -0.76102401 -0.25701863  0.55084699  0.15256624 -0.08867246\n",
      "   0.19220218  0.54966822 -0.97554181 -1.18462375 -0.80857507 -0.91527215\n",
      "  -0.71773226 -0.07403005 -0.75884403 -0.82683111 -0.85413201 -0.29898076]]\n"
     ]
    }
   ],
   "source": [
    "theta =clasificacion.coef_\n",
    "print(theta)"
   ]
  },
  {
   "cell_type": "code",
   "execution_count": 14,
   "metadata": {},
   "outputs": [
    {
     "data": {
      "text/plain": [
       "<matplotlib.collections.PathCollection at 0x22404344708>"
      ]
     },
     "execution_count": 14,
     "metadata": {},
     "output_type": "execute_result"
    },
    {
     "data": {
      "image/png": "[encoded data removed]",
      "text/plain": [
       "<Figure size 432x288 with 1 Axes>"
      ]
     },
     "metadata": {
      "needs_background": "light"
     },
     "output_type": "display_data"
    }
   ],
   "source": [
    "theta =clasificacion.coef_\n",
    "theta_param = []\n",
    "for i in  theta:\n",
    "    for j in i:\n",
    "        theta_param.append(j)\n",
    "plt.scatter(x_train[0],theta_param) "
   ]
  },
  {
   "cell_type": "markdown",
   "metadata": {},
   "source": [
    "Consideramos que el punto más alto de la gráfica es el que representa la variable más importante a cosniderar dado el valor que tiene su parámetro $\\theta$. Además, según la predicción del clasificador, este caso a considerar se considera _Benigno_"
   ]
  },
  {
   "cell_type": "code",
   "execution_count": 16,
   "metadata": {},
   "outputs": [
    {
     "data": {
      "text/plain": [
       "<matplotlib.collections.PathCollection at 0x22404427488>"
      ]
     },
     "execution_count": 16,
     "metadata": {},
     "output_type": "execute_result"
    },
    {
     "data": {
      "image/png": "[encoded data removed]",
      "text/plain": [
       "<Figure size 432x288 with 1 Axes>"
      ]
     },
     "metadata": {
      "needs_background": "light"
     },
     "output_type": "display_data"
    }
   ],
   "source": [
    "plt.scatter(x_train[6],theta_param)   "
   ]
  },
  {
   "cell_type": "markdown",
   "metadata": {},
   "source": [
    "Por otro lado, el caso seleccionado, se considera _Maligno_ . Note que los valores de $\\theta$ con respecto a los parámetros del train, tienden a ser negativos la mayoria.\n",
    "\n",
    "De esta manera, podemos decir que se puede clasificar como _benigno_ o _maligno_ dependiendo del comportamiento que tiene los valores. "
   ]
  },
  {
   "cell_type": "markdown",
   "metadata": {},
   "source": [
    "## Preguntas\n",
    "Como el objetivo es evaluar sus conocimientos en clasificación, el profesor Alexander también quiere que contesten las siguientes preguntas:\n",
    "\n",
    "1. ¿Qué influencia tiene el uso de diferentes valores de K en el clasificador KNN?\n",
    "\n",
    "- Dado que es un algoritmo que sirve para predecir, clasifica los valores K, teniendo en cuenta los puntos de datos mas cercanos a 1. De esta manera, clasifica el punto adecuado basándose en sus puntos vecinos. Luego, los valores más altos es donde se logra obtener la mayor precisión.\n",
    "\n",
    "2. ¿Qué diferencias hay entre el clasificador utilizando KNN y regresión logistica? ¿Funciona uno mejor que otro?, ¿Porqué?\n",
    "\n",
    "- La Regresón Logistica es un modelo paramétrico, mientras que el algortimos de KNN no lo es, es decir, la regresión logistica tiene una familia de distribuciones de probabilidad con un número finito de parámetros. Aunque, esto conlleva a que si la muestra es muy grande, el algortimo tardaría mucho y el costo sería alto. Luego, en términos de velocidad, el clasificador KNN es mucho más lento que la Regresión Logistica. Ahora bien, acerca de la predicción, ambas tienen una predicción muy acertada en este caso. Sin embargo, la Regresión Logística tiene mejor pronóstico. \n",
    "\n",
    "3. ¿El clasificador de regresión logistica presenta un buen rendimiento? ¿Cómo evaluan su rendimiento?¿Si el rendimiento no es bueno que cree se debe hacer para mejorarlo?\n",
    "\n",
    "- En términos de rendimiento, la regresión logistica es muy eficaz y sencilla de utilizar. El buen rendimiento de la regresión logistica se debe también a que el clasificador toma una decisión con base a la existencia de una u otra característica en su propio registro. Su rendimiento se evalúa al no necesitar grandes recursos computacionales.\n",
    "\n",
    "\n",
    "4. ¿Qué relación tienen los parámetros $\\theta$ con los datos disponibles para cada clase? ¿Esto le genera alguna idea sobre como se pueden inicializar los valores para este clasificador?\n",
    "\n",
    "- Los valores que tiene $\\theta_i$ define cada dato por considerar. Si se compara el comportamineto de un dato negativo con uno positivo, se pueden ver cuales son los valores ($\\theta_i$) más importantes o que más peso tiene a la hora de definir si la persona se encuentra enferma o no.  Si se define un umbral como base, podemos clasificar cuales personas podrían estar enfermas. \n",
    "\n",
    "5. ¿Qué puede concluir al final de este proyecto?, escriba su opinión frente a los metodos de clasificación y como se aplicó en este proyecto.\n",
    "-  Particularmente en este proyecto, la regresión logística abre las puertas para lograr clasificar las enfermedades de una manera rápida lo cual es algo muy bueno, dado que así se podría evitar el gasto en muchos exámenes médicos y en lo más importante, el tiempo, para lograr una diagnóstico completo y así un tratamiento. Respecto a los métodos de clasificación, se le puede sacar mucho provecho y más que todo en el área de la salud.  \n",
    "\n"
   ]
  },
  {
   "cell_type": "markdown",
   "metadata": {},
   "source": [
    "**Referencias**\n",
    "- https://www.aprendemachinelearning.com/clasificar-con-k-nearest-neighbor-ejemplo-en-python/#:~:text=K%2DNearest%2DNeighbor%20es%20un,el%20mundo%20del%20Aprendizaje%20Autom%C3%A1tico.\n",
    "- https://www.analyticslane.com/2018/07/23/la-regresion-logistica/\n",
    "- https://www.iartificial.net/regresion-logistica-para-clasificacion/\n",
    "- https://web.stanford.edu/class/archive/cs/cs109/cs109.1178/lectureHandouts/220-logistic-regression.pdf\n",
    "\n",
    "\n",
    "    "
   ]
  }
 ],
 "metadata": {
  "kernelspec": {
   "display_name": "Python 3 (ipykernel)",
   "language": "python",
   "name": "python3"
  },
  "language_info": {
   "codemirror_mode": {
    "name": "ipython",
    "version": 3
   },
   "file_extension": ".py",
   "mimetype": "text/x-python",
   "name": "python",
   "nbconvert_exporter": "python",
   "pygments_lexer": "ipython3",
   "version": "3.7.9"
  }
 },
 "nbformat": 4,
 "nbformat_minor": 2
}
